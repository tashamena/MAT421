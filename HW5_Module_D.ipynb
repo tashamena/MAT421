{
  "nbformat": 4,
  "nbformat_minor": 0,
  "metadata": {
    "colab": {
      "name": "HW5_Module_D.ipynb",
      "provenance": []
    },
    "kernelspec": {
      "name": "python3",
      "display_name": "Python 3"
    },
    "language_info": {
      "name": "python"
    }
  },
  "cells": [
    {
      "cell_type": "markdown",
      "source": [
        "1.2.1.1 Linear Combinations"
      ],
      "metadata": {
        "id": "UBLp2XV02rA9"
      }
    },
    {
      "cell_type": "code",
      "source": [
        "import numpy as np\n",
        "x = np.array([[7, 8, 9, 1, 9, 2]])\n",
        "y = np.array([[5], [6], [7], [3], [4], [8]])\n",
        "print(x.shape)\n",
        "print(y.shape)"
      ],
      "metadata": {
        "colab": {
          "base_uri": "https://localhost:8080/"
        },
        "id": "ptgGFXqr9_uL",
        "outputId": "351735e7-f652-46d6-bf8f-d82762c63600"
      },
      "execution_count": 16,
      "outputs": [
        {
          "output_type": "stream",
          "name": "stdout",
          "text": [
            "(1, 6)\n",
            "(6, 1)\n"
          ]
        }
      ]
    },
    {
      "cell_type": "code",
      "source": [
        "import numpy as np\n",
        "x = np.array([[3, 4, 5],\n",
        "              [4, 3, 7],\n",
        "              [5, 6, 9]])\n",
        "y = ([89.1, 42.3, 65.9])\n",
        "scalars = np.linalg.solve(x, y)\n",
        "print(scalars)"
      ],
      "metadata": {
        "colab": {
          "base_uri": "https://localhost:8080/"
        },
        "id": "gC8x8OTzXrBw",
        "outputId": "5860d321-fd73-492b-ab9d-c1b289f776a4"
      },
      "execution_count": 19,
      "outputs": [
        {
          "output_type": "stream",
          "name": "stdout",
          "text": [
            "[ 183.4   17.6 -106.3]\n"
          ]
        }
      ]
    },
    {
      "cell_type": "markdown",
      "source": [
        "1.2.2 Orthogonality"
      ],
      "metadata": {
        "id": "4oimVb_tmMFw"
      }
    },
    {
      "cell_type": "code",
      "source": [
        "import numpy as np\n",
        "import matplotlib.pyplot as plt\n",
        "\n",
        "v1 = np.array([1, 7])\n",
        "v2 = np.array([4, 2])\n",
        "n1 = np.sqrt(np.sum(v1 * v1))\n",
        "n2 = np.sqrt(np.sum(v2 * v2))\n",
        "\n",
        "print(n1)\n",
        "print(n2)"
      ],
      "metadata": {
        "colab": {
          "base_uri": "https://localhost:8080/"
        },
        "id": "xsubXjObmS-D",
        "outputId": "b0aa01d1-0e29-41f9-8a2d-ca7eeb799fd2"
      },
      "execution_count": 43,
      "outputs": [
        {
          "output_type": "stream",
          "name": "stdout",
          "text": [
            "7.0710678118654755\n",
            "4.47213595499958\n"
          ]
        }
      ]
    },
    {
      "cell_type": "code",
      "source": [
        "fig = plt.figure(figsize=(5, 5))\n",
        "ax = fig.add_subplot(111)\n",
        "\n",
        "ax.grid(alpha=0.5)\n",
        "ax.set(xlim=(-5, 3), ylim=(-4, 4))\n",
        "\n",
        "v1 = np.array([5,  2])\n",
        "v2 = np.array([0, -1])\n",
        "\n",
        "ax.annotate('', xy=v1, xytext=(0, 0), arrowprops=dict(facecolor='r'))\n",
        "ax.annotate('', xy=v2, xytext=(0, 0), arrowprops=dict(facecolor='g'))\n",
        "plt.show()"
      ],
      "metadata": {
        "colab": {
          "base_uri": "https://localhost:8080/",
          "height": 324
        },
        "id": "EsgK__YarRhH",
        "outputId": "f66a8f1e-3a64-4126-ba94-6c59aeccec9b"
      },
      "execution_count": 40,
      "outputs": [
        {
          "output_type": "display_data",
          "data": {
            "image/png": "[encoded data removed]",
            "text/plain": [
              "<Figure size 360x360 with 1 Axes>"
            ]
          },
          "metadata": {
            "needs_background": "light"
          }
        }
      ]
    }
  ]
}