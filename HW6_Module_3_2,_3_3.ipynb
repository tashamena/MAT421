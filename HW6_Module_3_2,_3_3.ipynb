{
  "nbformat": 4,
  "nbformat_minor": 0,
  "metadata": {
    "colab": {
      "name": "HW6_Module_3.2, 3.3.ipynb",
      "provenance": []
    },
    "kernelspec": {
      "name": "python3",
      "display_name": "Python 3"
    },
    "language_info": {
      "name": "python"
    }
  },
  "cells": [
    {
      "cell_type": "markdown",
      "source": [
        "3.2 Limits and Continuity; Compute the limit of sin(x)/x"
      ],
      "metadata": {
        "id": "BktFfF-E9Ire"
      }
    },
    {
      "cell_type": "code",
      "source": [
        "from sympy import*\n",
        "x=symbols ('x')\n",
        "f=sin(x)/x\n",
        "y=limit(f,x,0)\n",
        "print(y)\n"
      ],
      "metadata": {
        "colab": {
          "base_uri": "https://localhost:8080/"
        },
        "id": "bNVCNa-H-WF0",
        "outputId": "29477c7b-bb0c-4e9b-a959-a06121b39b53"
      },
      "execution_count": 3,
      "outputs": [
        {
          "output_type": "stream",
          "name": "stdout",
          "text": [
            "1\n"
          ]
        }
      ]
    },
    {
      "cell_type": "markdown",
      "source": [
        "Compute the limit of 4/x"
      ],
      "metadata": {
        "id": "nMQjoClvBEyX"
      }
    },
    {
      "cell_type": "code",
      "source": [
        "from sympy import*\n",
        "x=symbols ('x')\n",
        "f=4/x\n",
        "y=limit(f,x,0)\n",
        "print(y)"
      ],
      "metadata": {
        "colab": {
          "base_uri": "https://localhost:8080/"
        },
        "id": "t-yoX00UA8fe",
        "outputId": "1d1bf12d-07c3-4c2d-91a0-52c3a781ef75"
      },
      "execution_count": 4,
      "outputs": [
        {
          "output_type": "stream",
          "name": "stdout",
          "text": [
            "oo\n"
          ]
        }
      ]
    },
    {
      "cell_type": "markdown",
      "source": [
        "Solve p(x)=3-x+2x^2+x^3"
      ],
      "metadata": {
        "id": "cvS0SmdBB1Q4"
      }
    },
    {
      "cell_type": "markdown",
      "source": [
        "Differentiation"
      ],
      "metadata": {
        "id": "G-ADx8P8CP0P"
      }
    },
    {
      "cell_type": "code",
      "source": [
        "import numpy.polynomial.polynomial as poly\n",
        "p=[3, -1, 2, 1]\n",
        "dpdx=poly.polyder(p)\n",
        "print(\"dpdx=\", dpdx)"
      ],
      "metadata": {
        "colab": {
          "base_uri": "https://localhost:8080/"
        },
        "id": "LbCrMIhiB-Om",
        "outputId": "d0f643d8-3b67-4e63-d650-8c92e54423b9"
      },
      "execution_count": 5,
      "outputs": [
        {
          "output_type": "stream",
          "name": "stdout",
          "text": [
            "dpdx= [-1.  4.  3.]\n"
          ]
        }
      ]
    }
  ]
}