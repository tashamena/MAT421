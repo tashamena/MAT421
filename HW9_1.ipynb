{
  "nbformat": 4,
  "nbformat_minor": 0,
  "metadata": {
    "colab": {
      "name": "HW9.1.ipynb",
      "provenance": []
    },
    "kernelspec": {
      "name": "python3",
      "display_name": "Python 3"
    },
    "language_info": {
      "name": "python"
    }
  },
  "cells": [
    {
      "cell_type": "markdown",
      "source": [
        "Decimal to Binary"
      ],
      "metadata": {
        "id": "bNRpScoynQBA"
      }
    },
    {
      "cell_type": "code",
      "source": [
        "def decimalToBinary(n):\n",
        "    return bin(n).replace(\"0b\", \"\")\n",
        "   \n",
        "if __name__ == '__main__':\n",
        "    print(decimalToBinary(999))\n"
      ],
      "metadata": {
        "colab": {
          "base_uri": "https://localhost:8080/"
        },
        "id": "2e9OdY2qhlJ_",
        "outputId": "a468477e-4a82-4058-d253-5a49373bf6f7"
      },
      "execution_count": 29,
      "outputs": [
        {
          "output_type": "stream",
          "name": "stdout",
          "text": [
            "1111100111\n"
          ]
        }
      ]
    },
    {
      "cell_type": "markdown",
      "source": [
        "Binary to Decimal"
      ],
      "metadata": {
        "id": "at2lQMXQnUG_"
      }
    },
    {
      "cell_type": "code",
      "source": [
        "def binaryToDecimal(binary):\n",
        "     \n",
        "    binary1 = binary\n",
        "    decimal, i, n = 0, 0, 0\n",
        "    while(binary != 0):\n",
        "        dec = binary % 10\n",
        "        decimal = decimal + dec * pow(2, i)\n",
        "        binary = binary//10\n",
        "        i += 1\n",
        "    print(decimal)   \n",
        "     \n",
        "if __name__ == '__main__':\n",
        "    binaryToDecimal(1111100111)"
      ],
      "metadata": {
        "colab": {
          "base_uri": "https://localhost:8080/"
        },
        "id": "d2t6aANlpPhv",
        "outputId": "d05136d9-d66e-4651-a75f-74afb0a1997c"
      },
      "execution_count": 36,
      "outputs": [
        {
          "output_type": "stream",
          "name": "stdout",
          "text": [
            "999\n"
          ]
        }
      ]
    },
    {
      "cell_type": "markdown",
      "source": [
        "HW Problem 1"
      ],
      "metadata": {
        "id": "_cJBw_ikpuI2"
      }
    },
    {
      "cell_type": "code",
      "source": [
        "def my_bin_2_dec(b):\n",
        "  b= bin(n).replace(\"0b\", \"\")\n",
        "  for i, n in zip(reversed(range(len(b))), b):\n",
        "        d += n*2**i\n",
        "  return d"
      ],
      "metadata": {
        "id": "Qk1h7tjvrZAS"
      },
      "execution_count": 45,
      "outputs": []
    }
  ]
}